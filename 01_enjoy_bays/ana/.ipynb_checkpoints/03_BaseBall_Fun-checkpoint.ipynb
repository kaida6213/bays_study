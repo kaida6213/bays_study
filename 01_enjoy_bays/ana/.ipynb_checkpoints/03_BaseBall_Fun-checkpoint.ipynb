{
 "cells": [
  {
   "cell_type": "code",
   "execution_count": 2,
   "metadata": {},
   "outputs": [],
   "source": [
    "import pandas as pd\n",
    "import numpy as np\n",
    "import matplotlib.pyplot as plt\n",
    "import pystan\n",
    "import arviz"
   ]
  },
  {
   "cell_type": "code",
   "execution_count": 7,
   "metadata": {},
   "outputs": [],
   "source": [
    "def read_data():\n",
    "    file = '../data/chapter03/baseball_team.csv'\n",
    "    df = pd.read_csv(file)\n",
    "    df = df/100. # scaling\n",
    "    \n",
    "    return df"
   ]
  },
  {
   "cell_type": "code",
   "execution_count": 8,
   "metadata": {},
   "outputs": [],
   "source": [
    "df = read_data()"
   ]
  },
  {
   "cell_type": "code",
   "execution_count": 9,
   "metadata": {},
   "outputs": [
    {
     "data": {
      "text/html": [
       "<div>\n",
       "<style scoped>\n",
       "    .dataframe tbody tr th:only-of-type {\n",
       "        vertical-align: middle;\n",
       "    }\n",
       "\n",
       "    .dataframe tbody tr th {\n",
       "        vertical-align: top;\n",
       "    }\n",
       "\n",
       "    .dataframe thead th {\n",
       "        text-align: right;\n",
       "    }\n",
       "</style>\n",
       "<table border=\"1\" class=\"dataframe\">\n",
       "  <thead>\n",
       "    <tr style=\"text-align: right;\">\n",
       "      <th></th>\n",
       "      <th>G</th>\n",
       "      <th>T</th>\n",
       "      <th>C</th>\n",
       "      <th>D</th>\n",
       "      <th>DB</th>\n",
       "      <th>S</th>\n",
       "    </tr>\n",
       "  </thead>\n",
       "  <tbody>\n",
       "    <tr>\n",
       "      <th>0</th>\n",
       "      <td>0.0</td>\n",
       "      <td>0.5</td>\n",
       "      <td>0.7</td>\n",
       "      <td>1.0</td>\n",
       "      <td>0.6</td>\n",
       "      <td>0.6</td>\n",
       "    </tr>\n",
       "    <tr>\n",
       "      <th>1</th>\n",
       "      <td>0.9</td>\n",
       "      <td>0.5</td>\n",
       "      <td>0.5</td>\n",
       "      <td>0.5</td>\n",
       "      <td>0.1</td>\n",
       "      <td>0.5</td>\n",
       "    </tr>\n",
       "    <tr>\n",
       "      <th>2</th>\n",
       "      <td>0.0</td>\n",
       "      <td>1.0</td>\n",
       "      <td>0.0</td>\n",
       "      <td>0.0</td>\n",
       "      <td>0.0</td>\n",
       "      <td>0.0</td>\n",
       "    </tr>\n",
       "    <tr>\n",
       "      <th>3</th>\n",
       "      <td>1.0</td>\n",
       "      <td>0.5</td>\n",
       "      <td>0.5</td>\n",
       "      <td>0.5</td>\n",
       "      <td>0.5</td>\n",
       "      <td>0.5</td>\n",
       "    </tr>\n",
       "    <tr>\n",
       "      <th>4</th>\n",
       "      <td>0.2</td>\n",
       "      <td>0.3</td>\n",
       "      <td>0.3</td>\n",
       "      <td>0.3</td>\n",
       "      <td>1.0</td>\n",
       "      <td>0.3</td>\n",
       "    </tr>\n",
       "  </tbody>\n",
       "</table>\n",
       "</div>"
      ],
      "text/plain": [
       "     G    T    C    D   DB    S\n",
       "0  0.0  0.5  0.7  1.0  0.6  0.6\n",
       "1  0.9  0.5  0.5  0.5  0.1  0.5\n",
       "2  0.0  1.0  0.0  0.0  0.0  0.0\n",
       "3  1.0  0.5  0.5  0.5  0.5  0.5\n",
       "4  0.2  0.3  0.3  0.3  1.0  0.3"
      ]
     },
     "execution_count": 9,
     "metadata": {},
     "output_type": "execute_result"
    }
   ],
   "source": [
    "df.head()"
   ]
  },
  {
   "cell_type": "code",
   "execution_count": 10,
   "metadata": {},
   "outputs": [
    {
     "name": "stdout",
     "output_type": "stream",
     "text": [
      "<class 'pandas.core.frame.DataFrame'>\n",
      "RangeIndex: 527 entries, 0 to 526\n",
      "Data columns (total 6 columns):\n",
      " #   Column  Non-Null Count  Dtype  \n",
      "---  ------  --------------  -----  \n",
      " 0   G       527 non-null    float64\n",
      " 1   T       527 non-null    float64\n",
      " 2   C       527 non-null    float64\n",
      " 3   D       527 non-null    float64\n",
      " 4   DB      527 non-null    float64\n",
      " 5   S       527 non-null    float64\n",
      "dtypes: float64(6)\n",
      "memory usage: 24.8 KB\n"
     ]
    }
   ],
   "source": [
    "df.info()"
   ]
  },
  {
   "cell_type": "code",
   "execution_count": 11,
   "metadata": {},
   "outputs": [
    {
     "data": {
      "text/html": [
       "<div>\n",
       "<style scoped>\n",
       "    .dataframe tbody tr th:only-of-type {\n",
       "        vertical-align: middle;\n",
       "    }\n",
       "\n",
       "    .dataframe tbody tr th {\n",
       "        vertical-align: top;\n",
       "    }\n",
       "\n",
       "    .dataframe thead th {\n",
       "        text-align: right;\n",
       "    }\n",
       "</style>\n",
       "<table border=\"1\" class=\"dataframe\">\n",
       "  <thead>\n",
       "    <tr style=\"text-align: right;\">\n",
       "      <th></th>\n",
       "      <th>G</th>\n",
       "      <th>T</th>\n",
       "      <th>C</th>\n",
       "      <th>D</th>\n",
       "      <th>DB</th>\n",
       "      <th>S</th>\n",
       "    </tr>\n",
       "  </thead>\n",
       "  <tbody>\n",
       "    <tr>\n",
       "      <th>count</th>\n",
       "      <td>527.000000</td>\n",
       "      <td>527.000000</td>\n",
       "      <td>527.000000</td>\n",
       "      <td>527.000000</td>\n",
       "      <td>527.000000</td>\n",
       "      <td>527.000000</td>\n",
       "    </tr>\n",
       "    <tr>\n",
       "      <th>mean</th>\n",
       "      <td>0.419905</td>\n",
       "      <td>0.529336</td>\n",
       "      <td>0.500019</td>\n",
       "      <td>0.429393</td>\n",
       "      <td>0.443757</td>\n",
       "      <td>0.453283</td>\n",
       "    </tr>\n",
       "    <tr>\n",
       "      <th>std</th>\n",
       "      <td>0.362624</td>\n",
       "      <td>0.327280</td>\n",
       "      <td>0.274880</td>\n",
       "      <td>0.261469</td>\n",
       "      <td>0.259632</td>\n",
       "      <td>0.253112</td>\n",
       "    </tr>\n",
       "    <tr>\n",
       "      <th>min</th>\n",
       "      <td>0.000000</td>\n",
       "      <td>0.000000</td>\n",
       "      <td>0.000000</td>\n",
       "      <td>0.000000</td>\n",
       "      <td>0.000000</td>\n",
       "      <td>0.000000</td>\n",
       "    </tr>\n",
       "    <tr>\n",
       "      <th>25%</th>\n",
       "      <td>0.000000</td>\n",
       "      <td>0.300000</td>\n",
       "      <td>0.400000</td>\n",
       "      <td>0.300000</td>\n",
       "      <td>0.300000</td>\n",
       "      <td>0.300000</td>\n",
       "    </tr>\n",
       "    <tr>\n",
       "      <th>50%</th>\n",
       "      <td>0.500000</td>\n",
       "      <td>0.500000</td>\n",
       "      <td>0.500000</td>\n",
       "      <td>0.500000</td>\n",
       "      <td>0.500000</td>\n",
       "      <td>0.500000</td>\n",
       "    </tr>\n",
       "    <tr>\n",
       "      <th>75%</th>\n",
       "      <td>0.800000</td>\n",
       "      <td>0.800000</td>\n",
       "      <td>0.700000</td>\n",
       "      <td>0.500000</td>\n",
       "      <td>0.600000</td>\n",
       "      <td>0.600000</td>\n",
       "    </tr>\n",
       "    <tr>\n",
       "      <th>max</th>\n",
       "      <td>1.000000</td>\n",
       "      <td>1.000000</td>\n",
       "      <td>1.000000</td>\n",
       "      <td>1.000000</td>\n",
       "      <td>1.000000</td>\n",
       "      <td>1.000000</td>\n",
       "    </tr>\n",
       "  </tbody>\n",
       "</table>\n",
       "</div>"
      ],
      "text/plain": [
       "                G           T           C           D          DB           S\n",
       "count  527.000000  527.000000  527.000000  527.000000  527.000000  527.000000\n",
       "mean     0.419905    0.529336    0.500019    0.429393    0.443757    0.453283\n",
       "std      0.362624    0.327280    0.274880    0.261469    0.259632    0.253112\n",
       "min      0.000000    0.000000    0.000000    0.000000    0.000000    0.000000\n",
       "25%      0.000000    0.300000    0.400000    0.300000    0.300000    0.300000\n",
       "50%      0.500000    0.500000    0.500000    0.500000    0.500000    0.500000\n",
       "75%      0.800000    0.800000    0.700000    0.500000    0.600000    0.600000\n",
       "max      1.000000    1.000000    1.000000    1.000000    1.000000    1.000000"
      ]
     },
     "execution_count": 11,
     "metadata": {},
     "output_type": "execute_result"
    }
   ],
   "source": [
    "df.describe()"
   ]
  },
  {
   "cell_type": "code",
   "execution_count": 12,
   "metadata": {},
   "outputs": [
    {
     "data": {
      "text/plain": [
       "(array([ 68.,   4.,  27.,   0.,  23.,  33.,   1.,   0.,  15.,   1., 123.,\n",
       "         43.,   0.,  36.,   0.,   4.,  37.,   0.,  27.,  85.]),\n",
       " array([0.  , 0.05, 0.1 , 0.15, 0.2 , 0.25, 0.3 , 0.35, 0.4 , 0.45, 0.5 ,\n",
       "        0.55, 0.6 , 0.65, 0.7 , 0.75, 0.8 , 0.85, 0.9 , 0.95, 1.  ]),\n",
       " <a list of 20 Patch objects>)"
      ]
     },
     "execution_count": 12,
     "metadata": {},
     "output_type": "execute_result"
    },
    {
     "data": {
      "image/png": "[encoded data removed]",
      "text/plain": [
       "<Figure size 432x288 with 1 Axes>"
      ]
     },
     "metadata": {
      "needs_background": "light"
     },
     "output_type": "display_data"
    }
   ],
   "source": [
    "plt.hist(df['T'], bins=20)"
   ]
  },
  {
   "cell_type": "code",
   "execution_count": 13,
   "metadata": {},
   "outputs": [],
   "source": [
    "model_code = '''\n",
    "    data{\n",
    "      int<lower=1> N; // sample size.\n",
    "      int<lower=1> P; // number of teams.\n",
    "      int<lower=1> K; // dimensions.\n",
    "      real R;         // parameter of uniform distribution.\n",
    "      matrix[N,P] Y;  // data matrix.\n",
    "    }\n",
    "    parameters{\n",
    "      vector<lower=-R,upper=R>[K] theta[N];\n",
    "      vector<lower=-R,upper=R>[K] delta[P];\n",
    "      real<lower=0,upper=1> gamma[N];\n",
    "      real<lower=-2,upper=2> alpha;\n",
    "      real<lower=0> beta;\n",
    "      real<lower=0> sigma[P];\n",
    "    }\n",
    "    model{\n",
    "      matrix[N,P] mu;\n",
    "      for(n in 1:N){\n",
    "        for(p in 1:P){\n",
    "          mu[n,p] = alpha - beta*dot_self(theta[n]-delta[p])^0.5;\n",
    "        }\n",
    "      }\n",
    "      for(n in 1:N){\n",
    "        for(p in 1:P){\n",
    "          if(Y[n,p]==0.5){\n",
    "            target += log_sum_exp(gamma[n], (1-gamma[n]) + normal_lpdf(0.5|mu[n,p],sigma[p]));\n",
    "          }else if(Y[n,p]==0){\n",
    "            target += (1-gamma[n]) + normal_lcdf(0|mu[n,p],sigma[p]);\n",
    "          }else if(Y[n,p]==1){\n",
    "            target += (1-gamma[n]) + normal_lccdf(1|mu[n,p],sigma[p]);\n",
    "          }else{\n",
    "            target += (1-gamma[n]) + normal_lpdf(Y[n,p]|mu[n,p],sigma[p]);\n",
    "          }\n",
    "        } \n",
    "      }\n",
    "    }\n",
    "'''"
   ]
  },
  {
   "cell_type": "code",
   "execution_count": null,
   "metadata": {},
   "outputs": [
    {
     "name": "stderr",
     "output_type": "stream",
     "text": [
      "INFO:pystan:COMPILING THE C++ CODE FOR MODEL anon_model_b80dedd7d2b44a6d8cf7081c4e8dccd5 NOW.\n",
      "C:\\Users\\User\\anaconda3\\lib\\site-packages\\Cython\\Compiler\\Main.py:369: FutureWarning: Cython directive 'language_level' not set, using 2 for now (Py2). This will change in a later release! File: C:\\Users\\User\\AppData\\Local\\Temp\\tmpg625uceb\\stanfit4anon_model_b80dedd7d2b44a6d8cf7081c4e8dccd5_1036098799675388896.pyx\n",
      "  tree = Parsing.p_module(s, pxd, full_module_name)\n"
     ]
    }
   ],
   "source": [
    "%%time\n",
    "stm = pystan.StanModel(model_code=model_code)"
   ]
  },
  {
   "cell_type": "code",
   "execution_count": null,
   "metadata": {},
   "outputs": [],
   "source": [
    "%%time\n",
    "data = {'N':len(df) , 'P':len(df.columns), 'K':2, 'R':3.0, 'Y':df}\n",
    "n_itr = 1500\n",
    "n_warmup = 500\n",
    "chains = 4\n",
    "\n",
    "# Execute Sampling\n",
    "fit = stm.sampling(data=data, iter=n_itr, chains=chains, n_jobs=1, warmup=n_warmup, algorithm='NUTS', verbose=True)"
   ]
  },
  {
   "cell_type": "code",
   "execution_count": null,
   "metadata": {},
   "outputs": [],
   "source": []
  }
 ],
 "metadata": {
  "kernelspec": {
   "display_name": "Python 3",
   "language": "python",
   "name": "python3"
  },
  "language_info": {
   "codemirror_mode": {
    "name": "ipython",
    "version": 3
   },
   "file_extension": ".py",
   "mimetype": "text/x-python",
   "name": "python",
   "nbconvert_exporter": "python",
   "pygments_lexer": "ipython3",
   "version": "3.8.3"
  }
 },
 "nbformat": 4,
 "nbformat_minor": 4
}
